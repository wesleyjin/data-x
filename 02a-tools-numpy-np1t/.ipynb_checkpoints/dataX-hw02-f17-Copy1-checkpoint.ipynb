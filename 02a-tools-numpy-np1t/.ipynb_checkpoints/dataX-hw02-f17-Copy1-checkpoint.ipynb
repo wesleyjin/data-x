{
 "cells": [
  {
   "cell_type": "markdown",
   "metadata": {},
   "source": [
    "![data-x](http://oi64.tinypic.com/o858n4.jpg)\n",
    "\n",
    "\n",
    "**Author:** Kunal Desai and Ikhlaq Sidhu \n",
    "\n"
   ]
  },
  {
   "cell_type": "markdown",
   "metadata": {},
   "source": [
    "# Homework 02"
   ]
  },
  {
   "cell_type": "markdown",
   "metadata": {},
   "source": [
    "## Numpy Introduction\n",
    "\n",
    "1a) Create two numpy arrays (a and b). a should be all integers between 10-19 (inclusive), and b should be ten evenly spaced numbers between 1-7. Print all the results below:\n",
    "* Square all the elements in both arrays (element-wise)\n",
    "* Add both the squared arrays (e.g., [1,2] + [3,4] = [4,6])\n",
    "* Sum the elements with even indices of the added array.\n",
    "* Take the square root of the added array (element-wise square root)\n",
    "\n"
   ]
  },
  {
   "cell_type": "code",
   "execution_count": null,
   "metadata": {
    "collapsed": true
   },
   "outputs": [],
   "source": []
  },
  {
   "cell_type": "markdown",
   "metadata": {},
   "source": [
    "1b) Append b to a, reshape the appended array so that it is a 5x4, 2d array and store the results in a variable called m. Print m.\n"
   ]
  },
  {
   "cell_type": "code",
   "execution_count": null,
   "metadata": {
    "collapsed": true
   },
   "outputs": [],
   "source": []
  },
  {
   "cell_type": "code",
   "execution_count": null,
   "metadata": {
    "collapsed": true
   },
   "outputs": [],
   "source": []
  },
  {
   "cell_type": "markdown",
   "metadata": {},
   "source": [
    "1c) Extract the second and the third column of the m matrix. Store the resulting 5x2 matrix in a new variable called m2. Print m2.\n"
   ]
  },
  {
   "cell_type": "code",
   "execution_count": null,
   "metadata": {
    "collapsed": true
   },
   "outputs": [],
   "source": []
  },
  {
   "cell_type": "markdown",
   "metadata": {},
   "source": [
    "1d) Take the dot product of m2T and m store the results in a matrix called m3. Print m3.\n"
   ]
  },
  {
   "cell_type": "code",
   "execution_count": null,
   "metadata": {
    "collapsed": true
   },
   "outputs": [],
   "source": []
  },
  {
   "cell_type": "markdown",
   "metadata": {},
   "source": [
    "1e) Round the m3 matrix to two decimal points. Store the result in place and print the new m3.\n"
   ]
  },
  {
   "cell_type": "code",
   "execution_count": null,
   "metadata": {
    "collapsed": true
   },
   "outputs": [],
   "source": []
  },
  {
   "cell_type": "markdown",
   "metadata": {},
   "source": [
    "1f) Sort the m3 array so that the highest value is at the top left, the next highest value to the right of the highest, and the lowest value is at the bottom right. Print the sorted m3 array.\n"
   ]
  },
  {
   "cell_type": "code",
   "execution_count": null,
   "metadata": {
    "collapsed": true
   },
   "outputs": [],
   "source": []
  },
  {
   "cell_type": "markdown",
   "metadata": {},
   "source": [
    "## NumPy and Masks\n",
    "2a) create an array called 'f' where the values are sin(x) for x from 0 to pi with 100 values in f\n",
    "* print f\n",
    "* use a 'mask' and print an array that is True when f >= 1/2 and False when f < 1/2\n",
    "* create and print an array sequence that has only those values where f>= 1/2\n",
    "\n"
   ]
  },
  {
   "cell_type": "code",
   "execution_count": null,
   "metadata": {
    "collapsed": true
   },
   "outputs": [],
   "source": []
  },
  {
   "cell_type": "markdown",
   "metadata": {
    "collapsed": true
   },
   "source": [
    "## NumPy and 2 Variable Prediction"
   ]
  },
  {
   "cell_type": "markdown",
   "metadata": {},
   "source": [
    "Lets make 2 numpy arrays each of size 100\n",
    "x will be from 1 to 10 with a uniform noise (0,1/2)\n",
    "y will be from 1 to 20 with a uniform noise (0,1)\n",
    "This has already been done for you just below:"
   ]
  },
  {
   "cell_type": "code",
   "execution_count": 7,
   "metadata": {
    "collapsed": false
   },
   "outputs": [
    {
     "name": "stdout",
     "output_type": "stream",
     "text": [
      "x =  [  1.32813404   1.1236611    1.26519005   1.76569258   1.65426377\n",
      "   1.48038016   1.59749872   1.89118734   2.17896832   2.04515664\n",
      "   2.19129526   2.26187237   2.29120638   2.25061227   2.48327379\n",
      "   2.51486198   2.53053352   2.77115182   2.96886728   2.78484888\n",
      "   2.89622949   3.0362796    3.11669105   3.48561871   3.39415085\n",
      "   3.41525462   3.51534974   3.5543126    3.89124135   4.06474305\n",
      "   3.92777149   4.12009784   4.16613288   4.03126526   4.16957718\n",
      "   4.59107752   4.68796552   4.49780552   4.85649739   4.66974083\n",
      "   4.83841554   4.94929824   5.23526583   5.26711571   5.35549938\n",
      "   5.18040647   5.60007062   5.33647336   5.59508889   5.49984342\n",
      "   5.59024074   5.97878142   5.98188333   6.03201424   5.99789666\n",
      "   6.44890274   6.26890577   6.46788268   6.70909059   6.66002839\n",
      "   6.69548591   6.85850468   6.98564744   7.1948114    6.86303802\n",
      "   7.37795203   7.2638336    7.1060077    7.36642618   7.32997666\n",
      "   7.39244046   7.64592757   7.74041559   7.97054445   8.2037778\n",
      "   8.2936393    8.05126599   8.0290979    8.31851417   8.40636724\n",
      "   8.33374255   8.71773833   8.47616411   8.90129071   8.64015814\n",
      "   8.79063501   9.1361919    9.15645107   9.24063041   9.39941865\n",
      "   9.3509521    9.52232307   9.48345137   9.92136456   9.65856825\n",
      "   9.71142247   9.86720764  10.14235141  10.31607166  10.16922855]\n",
      "y=  [  1.28057368   1.30359555   2.26905028   2.54402888   2.43452771\n",
      "   2.88097447   2.97198627   2.77691098   2.61137152   3.07680413\n",
      "   3.89876174   3.16190202   3.92649268   3.55470777   4.37719079\n",
      "   4.20831728   4.98518323   5.18685758   5.24833049   5.20212606\n",
      "   5.60503292   5.66864382   5.89865749   5.49801667   5.84973498\n",
      "   6.64332245   6.22729198   6.78609003   6.40790856   7.10319102\n",
      "   7.06283374   7.83309556   7.30969141   7.79951007   7.61544699\n",
      "   8.57141882   8.2171006    8.95751861   8.77169801   8.69216525\n",
      "   9.56828711   9.25457673   9.45677322   9.45945451   9.71385216\n",
      "  10.37273673   9.87309816  10.29799932  10.2804088   11.36452436\n",
      "  11.30153872  11.08559696  11.37506547  11.19329159  11.90181478\n",
      "  11.80873323  12.20558874  12.29624467  12.44134595  12.43783164\n",
      "  13.11736289  13.42752441  13.34709501  13.19219967  13.385386\n",
      "  13.55341527  14.09057679  14.49599254  14.79139925  14.66686121\n",
      "  14.73382151  15.26693115  15.40089678  15.01898986  15.63919803\n",
      "  16.38085324  16.39525737  16.40475641  16.03620093  16.56621908\n",
      "  17.16884976  16.84949217  17.22388154  17.88147847  17.74990678\n",
      "  17.92467509  17.94224557  18.26527704  18.53878296  18.93880283\n",
      "  18.41523447  19.00471959  18.79988798  19.80834553  19.58037239\n",
      "  19.99709557  19.47938206  20.15251639  20.06308178  20.20014446]\n"
     ]
    }
   ],
   "source": [
    "x = np.linspace(1,10,100)+ np.random.random(100) /2\n",
    "y = np.linspace(1,20,100)+np.random.random(100) \n",
    "print ('x = ',x)\n",
    "print ('y= ',y)"
   ]
  },
  {
   "cell_type": "markdown",
   "metadata": {},
   "source": [
    "3a) Find Expected value of x and the expected value of y"
   ]
  },
  {
   "cell_type": "code",
   "execution_count": null,
   "metadata": {
    "collapsed": true
   },
   "outputs": [],
   "source": []
  },
  {
   "cell_type": "markdown",
   "metadata": {},
   "source": [
    "3b) write code that uses a linear predictor to calculate a predicted value of y for each x\n",
    "ie y_predicted = f(x).  "
   ]
  },
  {
   "cell_type": "code",
   "execution_count": null,
   "metadata": {
    "collapsed": true
   },
   "outputs": [],
   "source": []
  },
  {
   "cell_type": "markdown",
   "metadata": {},
   "source": [
    "3c) predict y for each value in x, pur the error into an array called y-error"
   ]
  },
  {
   "cell_type": "code",
   "execution_count": null,
   "metadata": {
    "collapsed": true
   },
   "outputs": [],
   "source": []
  },
  {
   "cell_type": "markdown",
   "metadata": {},
   "source": [
    "3d) write code that calculates the mean square, that is average of y-error squared"
   ]
  },
  {
   "cell_type": "code",
   "execution_count": null,
   "metadata": {
    "collapsed": true
   },
   "outputs": [],
   "source": []
  }
 ],
 "metadata": {
  "anaconda-cloud": {},
  "kernelspec": {
   "display_name": "Python 3",
   "language": "python",
   "name": "python3"
  },
  "language_info": {
   "codemirror_mode": {
    "name": "ipython",
    "version": 3
   },
   "file_extension": ".py",
   "mimetype": "text/x-python",
   "name": "python",
   "nbconvert_exporter": "python",
   "pygments_lexer": "ipython3",
   "version": "3.6.0"
  }
 },
 "nbformat": 4,
 "nbformat_minor": 1
}
