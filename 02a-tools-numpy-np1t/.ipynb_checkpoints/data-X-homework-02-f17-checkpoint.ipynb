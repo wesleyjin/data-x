{
 "cells": [
  {
   "cell_type": "markdown",
   "metadata": {},
   "source": [
    "![data-x](http://oi64.tinypic.com/o858n4.jpg)\n",
    "\n",
    "\n",
    "**Author:** Kunal Desai and Ikhlaq Sidhu \n",
    "\n"
   ]
  },
  {
   "cell_type": "markdown",
   "metadata": {},
   "source": [
    "# Homework 02"
   ]
  },
  {
   "cell_type": "markdown",
   "metadata": {},
   "source": [
    "## Numpy Introduction\n",
    "\n",
    "\n",
    "__1a) Create two numpy arrays (a and b). a should be all integers between 10-19 (inclusive), and b should be ten evenly spaced numbers between 1-7. Print all the results below:__ \n",
    "\n",
    "\n",
    "i) Square all the elements in both arrays (element-wise)  \n",
    "ii)  Add both the squared arrays (e.g., [1,2] + [3,4] = [4,6])  \n",
    "iii)  Sum the elements with even indices of the added array.  \n",
    "iv)  Take the square root of the added array (element-wise square root)__\n"
   ]
  },
  {
   "cell_type": "code",
   "execution_count": null,
   "metadata": {
    "collapsed": true
   },
   "outputs": [],
   "source": []
  },
  {
   "cell_type": "markdown",
   "metadata": {},
   "source": [
    "__1b) Append b to a, reshape the appended array so that it is a 5x4, 2d array and store the results in a variable called m. Print m.__\n"
   ]
  },
  {
   "cell_type": "code",
   "execution_count": null,
   "metadata": {
    "collapsed": true
   },
   "outputs": [],
   "source": []
  },
  {
   "cell_type": "markdown",
   "metadata": {},
   "source": [
    "__1c) Extract the second and the third column of the m matrix. Store the resulting 5x2 matrix in a new variable called m2. Print m2.__\n"
   ]
  },
  {
   "cell_type": "code",
   "execution_count": null,
   "metadata": {
    "collapsed": true
   },
   "outputs": [],
   "source": []
  },
  {
   "cell_type": "markdown",
   "metadata": {},
   "source": [
    "__1d) Take the dot product of m2 and m store the results in a matrix called m3. Print m3.\n",
    "Note that Dot product of two matrices A.B =A<sup>T</sup>B__"
   ]
  },
  {
   "cell_type": "code",
   "execution_count": null,
   "metadata": {
    "collapsed": true
   },
   "outputs": [],
   "source": []
  },
  {
   "cell_type": "markdown",
   "metadata": {},
   "source": [
    "__1e) Round the m3 matrix to two decimal points. Store the result in place and print the new m3.__\n"
   ]
  },
  {
   "cell_type": "code",
   "execution_count": null,
   "metadata": {
    "collapsed": true
   },
   "outputs": [],
   "source": []
  },
  {
   "cell_type": "markdown",
   "metadata": {},
   "source": [
    "__1f) Sort the m3 array so that the highest value is at the top left, the next highest value to the right of the highest, and the lowest value is at the bottom right. Print the sorted m3 array.__\n"
   ]
  },
  {
   "cell_type": "code",
   "execution_count": null,
   "metadata": {
    "collapsed": true
   },
   "outputs": [],
   "source": []
  },
  {
   "cell_type": "markdown",
   "metadata": {},
   "source": [
    "## NumPy and Masks\n",
    "__2a) create an array called 'f' where the values are sin(x) for x from 0 to pi with 100 values in f__\n",
    "* print f\n",
    "* use a 'mask' and print an array that is True when f >= 1/2 and False when f < 1/2\n",
    "* create and print an array sequence that has only those values where f>= 1/2\n",
    "\n"
   ]
  },
  {
   "cell_type": "code",
   "execution_count": null,
   "metadata": {
    "collapsed": false
   },
   "outputs": [],
   "source": [
    "\n"
   ]
  },
  {
   "cell_type": "markdown",
   "metadata": {
    "collapsed": true
   },
   "source": [
    "## NumPy and 2 Variable Prediction"
   ]
  },
  {
   "cell_type": "markdown",
   "metadata": {},
   "source": [
    "__ Let 'x' be the number of miles a person drives per day and 'y' be the dollars spent on buying car fuel (per day).__\n",
    "  \n",
    "__We have created 2 numpy arrays each of size 100 that represent x and y.  \n",
    "x ( number of miles) ranges from 1 to 10 with a uniform noise of (0,1/2)  \n",
    "y (money spent in dollars) will be from 1 to 20 with a uniform noise (0,1)__ \n"
   ]
  },
  {
   "cell_type": "code",
   "execution_count": 1,
   "metadata": {
    "collapsed": false
   },
   "outputs": [
    {
     "name": "stdout",
     "output_type": "stream",
     "text": [
      "x =  [  1.34683976   1.12176759   1.51512398   1.55233174   1.40619168\n",
      "   1.65075498   1.79399331   1.80243817   1.89844195   2.00100023\n",
      "   2.3344038    2.22424872   2.24914511   2.36268477   2.49808849\n",
      "   2.8212704    2.68452475   2.68229427   3.09511169   2.95703884\n",
      "   3.09047742   3.2544361    3.41541904   3.40886375   3.50672677\n",
      "   3.74960644   3.64861355   3.7721462    3.56368566   4.01092701\n",
      "   4.15630694   4.06088549   4.02517179   4.25169402   4.15897504\n",
      "   4.26835333   4.32520644   4.48563164   4.78490721   4.84614839\n",
      "   4.96698768   5.18754259   5.29582013   5.32097781   5.0674106\n",
      "   5.47601124   5.46852704   5.64537452   5.49642807   5.89755027\n",
      "   5.68548923   5.76276141   5.94613234   6.18135713   5.96522091\n",
      "   6.0275473    6.54290191   6.4991329    6.74003765   6.81809807\n",
      "   6.50611821   6.91538752   7.01250925   6.89905417   7.31314433\n",
      "   7.20472297   7.1043621    7.48199528   7.58957227   7.61744354\n",
      "   7.6991707    7.85436822   8.03510784   7.80787781   8.22410224\n",
      "   7.99366248   8.40581097   8.28913792   8.45971515   8.54227144\n",
      "   8.6906456    8.61856507   8.83489887   8.66309658   8.94837987\n",
      "   9.20890222   8.9614749    8.92608294   9.13231416   9.55889896\n",
      "   9.61488451   9.54252979   9.42015491   9.90952569  10.00659591\n",
      "  10.02504265  10.07330937   9.93489915  10.0892334   10.36509991]\n",
      "y=  [  1.6635012    2.0214592    2.10816052   2.26016496   1.96287558\n",
      "   2.9554635    3.02881887   3.33565296   2.75465779   3.4250107\n",
      "   3.39670148   3.39377767   3.78503343   4.38293049   4.32963586\n",
      "   4.03925039   4.73691868   4.30098399   4.8416329    4.78175957\n",
      "   4.99765787   5.31746817   5.76844671   5.93723749   5.72811642\n",
      "   6.70973615   6.68143367   6.57482731   7.17737603   7.54863252\n",
      "   7.30221419   7.3202573    7.78023884   7.91133365   8.2765417\n",
      "   8.69203281   8.78219865   8.45897546   8.89094715   8.81719921\n",
      "   8.87106971   9.66192562   9.4020625    9.85990783   9.60359778\n",
      "  10.07386266  10.6957995   10.66721916  11.18256285  10.57431836\n",
      "  11.46744716  10.94398916  11.26445259  12.09754828  12.11988037\n",
      "  12.121557    12.17613693  12.43750193  13.00912372  12.86407194\n",
      "  13.24640866  12.76120085  13.11723062  14.07841099  14.19821707\n",
      "  14.27289001  14.30624942  14.63060835  14.2770918   15.0744923\n",
      "  14.45261619  15.11897313  15.2378667   15.27203124  15.32491892\n",
      "  16.01095271  15.71250558  16.29488506  16.70618934  16.56555394\n",
      "  16.42379457  17.18144744  17.13813976  17.69613625  17.37763019\n",
      "  17.90942839  17.90343733  18.01951169  18.35727914  18.16841269\n",
      "  18.61813748  18.66062754  18.81217983  19.44995194  19.7213867\n",
      "  19.71966726  19.78961904  19.64385088  20.69719809  20.07974319]\n"
     ]
    }
   ],
   "source": [
    "# seed the random number generator with a fixed value\n",
    "import numpy as np\n",
    "np.random.seed(500)\n",
    "\n",
    "x=np.linspace(1,10,100)+ np.random.uniform(low=0,high=.5,size=100) \n",
    "y=np.linspace(1,20,100)+ np.random.uniform(low=0,high=1,size=100)\n",
    "print ('x = ',x)\n",
    "print ('y= ',y)"
   ]
  },
  {
   "cell_type": "markdown",
   "metadata": {},
   "source": [
    "__3a) Find Expected value of x and the expected value of y__"
   ]
  },
  {
   "cell_type": "code",
   "execution_count": null,
   "metadata": {
    "collapsed": true
   },
   "outputs": [],
   "source": []
  },
  {
   "cell_type": "markdown",
   "metadata": {},
   "source": [
    "__3b) Find variance of distributions of  x and  y__"
   ]
  },
  {
   "cell_type": "code",
   "execution_count": null,
   "metadata": {
    "collapsed": false
   },
   "outputs": [],
   "source": []
  },
  {
   "cell_type": "code",
   "execution_count": null,
   "metadata": {
    "collapsed": false
   },
   "outputs": [],
   "source": []
  },
  {
   "cell_type": "markdown",
   "metadata": {},
   "source": [
    "__3c) Find co-variance of x and y.__"
   ]
  },
  {
   "cell_type": "code",
   "execution_count": null,
   "metadata": {
    "collapsed": false
   },
   "outputs": [],
   "source": []
  },
  {
   "cell_type": "markdown",
   "metadata": {},
   "source": [
    "__3d) Assuming that number of dollars spent in car fuel is only dependant on the miles driven, by  a linear relationship.  \n",
    "Write code that uses a linear predictor to calculate a predicted value of y for each x\n",
    "ie y_predicted = f(x) = y0+mx.__  "
   ]
  },
  {
   "cell_type": "code",
   "execution_count": null,
   "metadata": {
    "collapsed": false
   },
   "outputs": [],
   "source": []
  },
  {
   "cell_type": "code",
   "execution_count": null,
   "metadata": {
    "collapsed": false
   },
   "outputs": [],
   "source": []
  },
  {
   "cell_type": "markdown",
   "metadata": {},
   "source": [
    "__3e) Predict y for each value in x, pur the error into an array called y_error__"
   ]
  },
  {
   "cell_type": "code",
   "execution_count": null,
   "metadata": {
    "collapsed": false
   },
   "outputs": [],
   "source": []
  },
  {
   "cell_type": "code",
   "execution_count": null,
   "metadata": {
    "collapsed": false
   },
   "outputs": [],
   "source": []
  },
  {
   "cell_type": "markdown",
   "metadata": {},
   "source": [
    "__3f) Write code that calculates the root mean square error(RMSE), that is root of average of y-error squared__"
   ]
  },
  {
   "cell_type": "code",
   "execution_count": null,
   "metadata": {
    "collapsed": false
   },
   "outputs": [],
   "source": []
  },
  {
   "cell_type": "code",
   "execution_count": null,
   "metadata": {
    "collapsed": true
   },
   "outputs": [],
   "source": []
  }
 ],
 "metadata": {
  "anaconda-cloud": {},
  "kernelspec": {
   "display_name": "Python 3",
   "language": "python",
   "name": "python3"
  },
  "language_info": {
   "codemirror_mode": {
    "name": "ipython",
    "version": 3
   },
   "file_extension": ".py",
   "mimetype": "text/x-python",
   "name": "python",
   "nbconvert_exporter": "python",
   "pygments_lexer": "ipython3",
   "version": "3.6.0"
  }
 },
 "nbformat": 4,
 "nbformat_minor": 1
}
